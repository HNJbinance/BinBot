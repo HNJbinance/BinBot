{
 "cells": [
  {
   "cell_type": "markdown",
   "id": "d84b65f8",
   "metadata": {},
   "source": [
    "# OPT -> Etape de modélisation : "
   ]
  },
  {
   "cell_type": "markdown",
   "id": "fd1adb81",
   "metadata": {},
   "source": [
    "Le but de cette étape est d'utiliser un algorithme de machine learning qui va essayer de prédire les tendences du marché en se basant sur les données historiques . \n",
    "\n",
    "Cette étape de modélisation vient aprés une étape de collecte de données via l'API binance. Pour récupérer ces données collectés on va établir une liaison avec la base de données préalablement dockerisée . \n"
   ]
  },
  {
   "cell_type": "code",
   "execution_count": 35,
   "id": "fa32c4da",
   "metadata": {},
   "outputs": [
    {
     "name": "stdout",
     "output_type": "stream",
     "text": [
      "C:\\Users\\hamza\\anaconda3\\python.exe\n"
     ]
    }
   ],
   "source": [
    "#to know which environment we are working in \n",
    "import sys\n",
    "print(sys.executable)\n"
   ]
  },
  {
   "cell_type": "code",
   "execution_count": 14,
   "id": "ed1b5a44",
   "metadata": {},
   "outputs": [],
   "source": [
    "# import mysql.connector\n",
    "\n",
    "import pandas as pd\n",
    "import numpy as np\n",
    "from datetime import datetime\n",
    "from datetime import timedelta\n",
    "import statsmodels.tsa.api as tsa\n",
    "from statsmodels.tsa.stattools import adfuller, acf, pacf\n",
    "from statsmodels.tsa.holtwinters import ExponentialSmoothing, Holt\n",
    "import matplotlib.pyplot as plt\n",
    "import seaborn as sns \n",
    "from statsmodels.tsa.arima_process import ArmaProcess\n",
    "from statsmodels.stats.diagnostic import acorr_ljungbox\n",
    "from statsmodels.tsa.statespace.sarimax import SARIMAX\n",
    "from statsmodels.tsa.seasonal import STL\n",
    "from pandas.plotting import register_matplotlib_converters\n",
    "from scipy.stats import boxcox\n",
    "import warnings\n",
    "warnings.filterwarnings('ignore')\n",
    "from sklearn.metrics import mean_squared_error\n",
    "from statsmodels.graphics.tsaplots import plot_pacf\n",
    "from statsmodels.graphics.tsaplots import plot_acf\n",
    "from statsmodels.tsa.arima_model import ARMA\n",
    "from statsmodels.tsa.arima.model import ARIMA, ARIMAResults\n",
    "import statsmodels.api as sm\n",
    "\n",
    "\n",
    "from sklearn.ensemble import RandomForestRegressor\n",
    "from sklearn.ensemble import RandomForestClassifier\n",
    "from datetime import datetime, timedelta\n",
    "from sklearn.metrics import roc_auc_score\n",
    "from sklearn.metrics import roc_curve\n",
    "\n",
    "from sklearn.model_selection import RandomizedSearchCV\n",
    "from sklearn.model_selection import train_test_split\n",
    "from sklearn.model_selection import StratifiedKFold\n",
    "\n",
    "from sklearn.model_selection import cross_val_score\n",
    "from sklearn.model_selection import GridSearchCV\n",
    "import matplotlib.pyplot as plt\n",
    "from sklearn.metrics import mean_squared_error\n",
    "\n",
    "\n",
    "%matplotlib inline"
   ]
  },
  {
   "cell_type": "markdown",
   "id": "778cb76e",
   "metadata": {},
   "source": [
    "## Connexion avec la base  de données Mysql : \n"
   ]
  },
  {
   "cell_type": "code",
   "execution_count": 3,
   "id": "b6ad3278",
   "metadata": {},
   "outputs": [
    {
     "data": {
      "text/html": [
       "<div>\n",
       "<style scoped>\n",
       "    .dataframe tbody tr th:only-of-type {\n",
       "        vertical-align: middle;\n",
       "    }\n",
       "\n",
       "    .dataframe tbody tr th {\n",
       "        vertical-align: top;\n",
       "    }\n",
       "\n",
       "    .dataframe thead th {\n",
       "        text-align: right;\n",
       "    }\n",
       "</style>\n",
       "<table border=\"1\" class=\"dataframe\">\n",
       "  <thead>\n",
       "    <tr style=\"text-align: right;\">\n",
       "      <th></th>\n",
       "      <th>id_symint</th>\n",
       "      <th>open_time</th>\n",
       "      <th>open_price</th>\n",
       "      <th>high_price</th>\n",
       "      <th>low_price</th>\n",
       "      <th>close_price</th>\n",
       "      <th>volume</th>\n",
       "      <th>close_time</th>\n",
       "      <th>quote_asset_volume</th>\n",
       "      <th>number_of_trades</th>\n",
       "      <th>taker_buy_base_asset_volume</th>\n",
       "      <th>taker_buy_quote_asset_volume</th>\n",
       "    </tr>\n",
       "  </thead>\n",
       "  <tbody>\n",
       "    <tr>\n",
       "      <th>0</th>\n",
       "      <td>1</td>\n",
       "      <td>1502942400000</td>\n",
       "      <td>4261.48</td>\n",
       "      <td>4313.62</td>\n",
       "      <td>4261.32</td>\n",
       "      <td>4308.83</td>\n",
       "      <td>47.181000</td>\n",
       "      <td>1502945999999</td>\n",
       "      <td>202366.0</td>\n",
       "      <td>171.0</td>\n",
       "      <td>35.160500</td>\n",
       "      <td>150952.00</td>\n",
       "    </tr>\n",
       "    <tr>\n",
       "      <th>1</th>\n",
       "      <td>1</td>\n",
       "      <td>1502946000000</td>\n",
       "      <td>4308.83</td>\n",
       "      <td>4328.69</td>\n",
       "      <td>4291.37</td>\n",
       "      <td>4315.32</td>\n",
       "      <td>23.234900</td>\n",
       "      <td>1502949599999</td>\n",
       "      <td>100305.0</td>\n",
       "      <td>102.0</td>\n",
       "      <td>21.448100</td>\n",
       "      <td>92608.30</td>\n",
       "    </tr>\n",
       "    <tr>\n",
       "      <th>2</th>\n",
       "      <td>1</td>\n",
       "      <td>1502949600000</td>\n",
       "      <td>4330.29</td>\n",
       "      <td>4345.45</td>\n",
       "      <td>4309.37</td>\n",
       "      <td>4324.35</td>\n",
       "      <td>7.229690</td>\n",
       "      <td>1502953199999</td>\n",
       "      <td>31282.3</td>\n",
       "      <td>36.0</td>\n",
       "      <td>4.802860</td>\n",
       "      <td>20795.30</td>\n",
       "    </tr>\n",
       "    <tr>\n",
       "      <th>3</th>\n",
       "      <td>1</td>\n",
       "      <td>1502953200000</td>\n",
       "      <td>4316.62</td>\n",
       "      <td>4349.99</td>\n",
       "      <td>4287.41</td>\n",
       "      <td>4349.99</td>\n",
       "      <td>4.443250</td>\n",
       "      <td>1502956799999</td>\n",
       "      <td>19241.1</td>\n",
       "      <td>25.0</td>\n",
       "      <td>2.602290</td>\n",
       "      <td>11291.30</td>\n",
       "    </tr>\n",
       "    <tr>\n",
       "      <th>4</th>\n",
       "      <td>1</td>\n",
       "      <td>1502956800000</td>\n",
       "      <td>4333.32</td>\n",
       "      <td>4377.85</td>\n",
       "      <td>4333.32</td>\n",
       "      <td>4360.69</td>\n",
       "      <td>0.972807</td>\n",
       "      <td>1502960399999</td>\n",
       "      <td>4239.5</td>\n",
       "      <td>28.0</td>\n",
       "      <td>0.814655</td>\n",
       "      <td>3552.75</td>\n",
       "    </tr>\n",
       "  </tbody>\n",
       "</table>\n",
       "</div>"
      ],
      "text/plain": [
       "   id_symint      open_time  open_price  high_price  low_price  close_price  \\\n",
       "0          1  1502942400000     4261.48     4313.62    4261.32      4308.83   \n",
       "1          1  1502946000000     4308.83     4328.69    4291.37      4315.32   \n",
       "2          1  1502949600000     4330.29     4345.45    4309.37      4324.35   \n",
       "3          1  1502953200000     4316.62     4349.99    4287.41      4349.99   \n",
       "4          1  1502956800000     4333.32     4377.85    4333.32      4360.69   \n",
       "\n",
       "      volume     close_time  quote_asset_volume  number_of_trades  \\\n",
       "0  47.181000  1502945999999            202366.0             171.0   \n",
       "1  23.234900  1502949599999            100305.0             102.0   \n",
       "2   7.229690  1502953199999             31282.3              36.0   \n",
       "3   4.443250  1502956799999             19241.1              25.0   \n",
       "4   0.972807  1502960399999              4239.5              28.0   \n",
       "\n",
       "   taker_buy_base_asset_volume  taker_buy_quote_asset_volume  \n",
       "0                    35.160500                     150952.00  \n",
       "1                    21.448100                      92608.30  \n",
       "2                     4.802860                      20795.30  \n",
       "3                     2.602290                      11291.30  \n",
       "4                     0.814655                       3552.75  "
      ]
     },
     "metadata": {},
     "output_type": "display_data"
    }
   ],
   "source": [
    "cnx = mysql.connector.connect(user='root', password='temp123',\n",
    "                              host=' 0.0.0.0', port='3306',\n",
    "                              database='opa')\n",
    "## remplacer host par l'ID de votre machine virtuelle \n",
    "## port : représente le port ou elle est logée notre DB sur le docker \n",
    "cursor = cnx.cursor()\n",
    "\n",
    "# Execute a query to retrieve data from a table\n",
    "query = \"SELECT * FROM historical_klines\"\n",
    "cursor.execute(query)\n",
    "\n",
    "# Load the data into a Pandas DataFrame\n",
    "data = pd.DataFrame(cursor.fetchall(), columns=['id_symint', 'open_time', 'open_price', 'high_price', 'low_price',\n",
    "       'close_price', 'volume', 'close_time', 'quote_asset_volume',\n",
    "       'number_of_trades', 'taker_buy_base_asset_volume',\n",
    "       'taker_buy_quote_asset_volume'])\n",
    "display(data.head())\n",
    "\n",
    "cursor.close()\n",
    "cnx.close()"
   ]
  },
  {
   "cell_type": "code",
   "execution_count": 4,
   "id": "6109e484",
   "metadata": {},
   "outputs": [],
   "source": [
    "data=pd.read_csv('data.csv')"
   ]
  },
  {
   "cell_type": "code",
   "execution_count": 5,
   "id": "e8f8b65f",
   "metadata": {},
   "outputs": [
    {
     "data": {
      "text/plain": [
       "Index(['id_symint', 'open_time', 'open_price', 'high_price', 'low_price',\n",
       "       'close_price', 'volume', 'quote_asset_volume', 'number_of_trades',\n",
       "       'taker_buy_base_asset_volume', 'taker_buy_quote_asset_volume'],\n",
       "      dtype='object')"
      ]
     },
     "execution_count": 5,
     "metadata": {},
     "output_type": "execute_result"
    }
   ],
   "source": [
    "data['close_time'] = pd.to_datetime(data['close_time'], unit='ms')\n",
    "data = data.set_index('close_time')\n",
    "data.sort_index(inplace = True)\n",
    "data.columns"
   ]
  },
  {
   "cell_type": "markdown",
   "id": "cdffecc6",
   "metadata": {},
   "source": [
    "## Modélisation : "
   ]
  },
  {
   "cell_type": "markdown",
   "id": "00358fce",
   "metadata": {},
   "source": [
    "Pour l'étape de modélisation on a testé trois approches : \n",
    "* Un modéle de régression : avec les forêts aléatoires(Random Forest Regressor) avec comme variable target close price \n",
    "* Un modèle de classification : avec les forêts aléatoires( Random Forest Classifier) avec comme variable target 'is_profit qui prend True si l’action a atteint l’objectif de profit de 1% , False dans le cas contraire. \n",
    "* Les séries temporelles : on a testé les modèles d'ARIMA , ARIMAX "
   ]
  },
  {
   "cell_type": "markdown",
   "id": "546012be",
   "metadata": {},
   "source": [
    "### 1. Random Forest Regressor : "
   ]
  },
  {
   "cell_type": "raw",
   "id": "a1f919b1",
   "metadata": {},
   "source": [
    "# ce code remplit d'abord les valeurs manquantes en les propageant vers l'avant (en utilisant la dernière valeur non manquante précédente) puis supprime les lignes qui contiennent encore des valeurs manquantes."
   ]
  },
  {
   "cell_type": "code",
   "execution_count": 6,
   "id": "e75a974e",
   "metadata": {},
   "outputs": [],
   "source": [
    "#fill any missing values\n",
    "data = data.ffill()\n",
    "# Drop any rows with missing values\n",
    "data.dropna(inplace=True)"
   ]
  },
  {
   "cell_type": "markdown",
   "id": "c6c81b99",
   "metadata": {},
   "source": [
    "#Ce code crée six colonnes décalées pour chacune des colonnes spécifiées dans lag_columns. La variable lag_count détermine le nombre de colonnes décalées à créer. La boucle for imbriquée parcourt chaque colonne et crée les colonnes décalées en utilisant la méthode shift(). Enfin, la fonction dropna() supprime les lignes avec des valeurs manquantes résultant du décalage."
   ]
  },
  {
   "cell_type": "code",
   "execution_count": 7,
   "id": "68d2ac5d",
   "metadata": {},
   "outputs": [],
   "source": [
    "##Create lagged features for the Random Forest model for each column \n",
    "\n",
    "lag_columns = ['open_price', 'high_price', 'low_price', 'close_price', 'volume', \n",
    "               'quote_asset_volume', 'number_of_trades', 'taker_buy_base_asset_volume', \n",
    "               'taker_buy_quote_asset_volume']\n",
    "\n",
    "lag_count = 6\n",
    "\n",
    "for col in lag_columns:\n",
    "    for lag in range(1, lag_count + 1):\n",
    "        data[f'{col}_lag{lag}'] = data[col].shift(lag)\n",
    "\n",
    "# Supprimer les lignes avec des valeurs manquantes après la création des colonnes décalées\n",
    "data.dropna(inplace=True)\n"
   ]
  },
  {
   "cell_type": "code",
   "execution_count": 8,
   "id": "a474383d",
   "metadata": {
    "scrolled": true
   },
   "outputs": [
    {
     "name": "stdout",
     "output_type": "stream",
     "text": [
      "1. id_symint\n",
      "2. open_time\n",
      "3. open_price\n",
      "4. high_price\n",
      "5. low_price\n",
      "6. close_price\n",
      "7. volume\n",
      "8. quote_asset_volume\n",
      "9. number_of_trades\n",
      "10. taker_buy_base_asset_volume\n",
      "11. taker_buy_quote_asset_volume\n",
      "12. open_price_lag1\n",
      "13. open_price_lag2\n",
      "14. open_price_lag3\n",
      "15. open_price_lag4\n",
      "16. open_price_lag5\n",
      "17. open_price_lag6\n",
      "18. high_price_lag1\n",
      "19. high_price_lag2\n",
      "20. high_price_lag3\n",
      "21. high_price_lag4\n",
      "22. high_price_lag5\n",
      "23. high_price_lag6\n",
      "24. low_price_lag1\n",
      "25. low_price_lag2\n",
      "26. low_price_lag3\n",
      "27. low_price_lag4\n",
      "28. low_price_lag5\n",
      "29. low_price_lag6\n",
      "30. close_price_lag1\n",
      "31. close_price_lag2\n",
      "32. close_price_lag3\n",
      "33. close_price_lag4\n",
      "34. close_price_lag5\n",
      "35. close_price_lag6\n",
      "36. volume_lag1\n",
      "37. volume_lag2\n",
      "38. volume_lag3\n",
      "39. volume_lag4\n",
      "40. volume_lag5\n",
      "41. volume_lag6\n",
      "42. quote_asset_volume_lag1\n",
      "43. quote_asset_volume_lag2\n",
      "44. quote_asset_volume_lag3\n",
      "45. quote_asset_volume_lag4\n",
      "46. quote_asset_volume_lag5\n",
      "47. quote_asset_volume_lag6\n",
      "48. number_of_trades_lag1\n",
      "49. number_of_trades_lag2\n",
      "50. number_of_trades_lag3\n",
      "51. number_of_trades_lag4\n",
      "52. number_of_trades_lag5\n",
      "53. number_of_trades_lag6\n",
      "54. taker_buy_base_asset_volume_lag1\n",
      "55. taker_buy_base_asset_volume_lag2\n",
      "56. taker_buy_base_asset_volume_lag3\n",
      "57. taker_buy_base_asset_volume_lag4\n",
      "58. taker_buy_base_asset_volume_lag5\n",
      "59. taker_buy_base_asset_volume_lag6\n",
      "60. taker_buy_quote_asset_volume_lag1\n",
      "61. taker_buy_quote_asset_volume_lag2\n",
      "62. taker_buy_quote_asset_volume_lag3\n",
      "63. taker_buy_quote_asset_volume_lag4\n",
      "64. taker_buy_quote_asset_volume_lag5\n",
      "65. taker_buy_quote_asset_volume_lag6\n"
     ]
    }
   ],
   "source": [
    "# Récupérer les noms de colonnes\n",
    "column_names = data.columns\n",
    "\n",
    "# Afficher les noms de colonnes avec une numérotation\n",
    "for idx, col_name in enumerate(column_names, 1):\n",
    "    print(f\"{idx}. {col_name}\")"
   ]
  },
  {
   "cell_type": "code",
   "execution_count": 9,
   "id": "c218a8d7",
   "metadata": {},
   "outputs": [],
   "source": [
    "# Supprimer les colonnes indésirables pour les fonctionnalités\n",
    "feats = data.drop(['close_price', 'id_symint', 'open_time'], axis=1)\n",
    "\n",
    "# Utiliser la colonne 'close_price' comme cible\n",
    "target = data['close_price']\n",
    "\n",
    "# Pourcentage des données à utiliser pour l'ensemble de test (par exemple, 20%)\n",
    "test_size = 0.2\n",
    "\n",
    "# Diviser les données en ensembles d'entraînement et de test\n",
    "X_train, X_test, y_train, y_test = train_test_split(feats, target, test_size=test_size, random_state=42)"
   ]
  },
  {
   "cell_type": "code",
   "execution_count": 10,
   "id": "93cf468d",
   "metadata": {},
   "outputs": [
    {
     "name": "stdout",
     "output_type": "stream",
     "text": [
      "Fitting 5 folds for each of 144 candidates, totalling 720 fits\n",
      "Best model parameters:  {'max_depth': None, 'min_samples_leaf': 1, 'min_samples_split': 2, 'n_estimators': 10}\n",
      "Best model MSE:  7607107.264949279\n"
     ]
    }
   ],
   "source": [
    "# Définir les hyperparamètres à tester\n",
    "param_grid = {\n",
    "    'n_estimators': [10, 50, 100, 200],\n",
    "    'max_depth': [None, 10, 20, 30],\n",
    "    'min_samples_split': [2, 5, 10],\n",
    "    'min_samples_leaf': [1, 2, 4]\n",
    "}\n",
    "\n",
    "# Créer une instance du modèle RandomForestRegressor\n",
    "rf_model = RandomForestRegressor(random_state=42)\n",
    "\n",
    "# Créer une instance de GridSearchCV pour rechercher les meilleurs hyperparamètres\n",
    "grid_search = GridSearchCV(estimator=rf_model, param_grid=param_grid, cv=5, scoring='neg_mean_squared_error', verbose=2, n_jobs=-1)\n",
    "\n",
    "# Effectuer la recherche des meilleurs hyperparamètres en utilisant la validation croisée\n",
    "grid_search.fit(X_train, y_train)\n",
    "\n",
    "# Récupérer le meilleur modèle\n",
    "best_model = grid_search.best_estimator_\n",
    "\n",
    "print(\"Best model parameters: \", grid_search.best_params_)\n",
    "print(\"Best model MSE: \", -grid_search.best_score_)\n"
   ]
  },
  {
   "cell_type": "code",
   "execution_count": 11,
   "id": "5450e1e0",
   "metadata": {},
   "outputs": [],
   "source": [
    "import pickle\n",
    "\n",
    "# Assuming your trained model is named `model`\n",
    "with open(\"best_model.pkl\", \"wb\") as file:\n",
    "    pickle.dump(best_model, file)\n"
   ]
  },
  {
   "cell_type": "code",
   "execution_count": 16,
   "id": "f0c1f494",
   "metadata": {},
   "outputs": [
    {
     "name": "stdout",
     "output_type": "stream",
     "text": [
      "RMSE pour l'ensemble d'entraînement: 48.27857681964055\n",
      "RMSE pour l'ensemble de test: 48.48715614740078\n"
     ]
    }
   ],
   "source": [
    "# Faire des prédictions sur les ensembles d'entraînement et de test\n",
    "train_preds = best_model.predict(X_train)\n",
    "test_preds = best_model.predict(X_test)\n",
    "\n",
    "# Calculer les métriques d'évaluation (RMSE)\n",
    "train_rmse = np.sqrt(mean_squared_error(y_train, train_preds))\n",
    "test_rmse = np.sqrt(mean_squared_error(y_test, test_preds))\n",
    "\n",
    "print(f\"RMSE pour l'ensemble d'entraînement: {train_rmse}\")\n",
    "print(f\"RMSE pour l'ensemble de test: {test_rmse}\")\n",
    "\n",
    "# Tracer les prédictions\n"
   ]
  },
  {
   "cell_type": "code",
   "execution_count": 29,
   "id": "0b1e58bb",
   "metadata": {},
   "outputs": [
    {
     "data": {
      "image/png": "[encoded data removed]",
      "text/plain": [
       "<Figure size 864x432 with 2 Axes>"
      ]
     },
     "metadata": {
      "needs_background": "light"
     },
     "output_type": "display_data"
    }
   ],
   "source": [
    "# Créer un DataFrame pour stocker les prédictions et les valeurs réelles\n",
    "train_results = pd.DataFrame({'Actual': y_train, 'Predicted': train_preds})\n",
    "test_results = pd.DataFrame({'Actual': y_test, 'Predicted': test_preds})\n",
    "\n",
    "# Créer un graphique pour comparer les prédictions et les valeurs réelles\n",
    "plt.figure(figsize=(12, 6))\n",
    "\n",
    "plt.subplot(1, 2, 1)\n",
    "plt.scatter(train_results['Actual'], train_results['Predicted'], alpha=0.5)\n",
    "plt.plot([min(train_results['Actual']), max(train_results['Actual'])], [min(train_results['Actual']), max(train_results['Actual'])], 'r--')\n",
    "plt.xlabel('Valeurs réelles')\n",
    "plt.ylabel('Prédictions')\n",
    "plt.title('Entraînement: Valeurs réelles vs Prédictions')\n",
    "\n",
    "plt.subplot(1, 2, 2)\n",
    "plt.scatter(test_results['Actual'], test_results['Predicted'], alpha=0.5)\n",
    "plt.plot([min(test_results['Actual']), max(test_results['Actual'])], [min(test_results['Actual']), max(test_results['Actual'])], 'r--')\n",
    "plt.xlabel('Valeurs réelles')\n",
    "plt.ylabel('Prédictions')\n",
    "plt.title('Test: Valeurs réelles vs Prédictions')\n",
    "\n",
    "plt.tight_layout()\n",
    "plt.show()\n"
   ]
  },
  {
   "cell_type": "code",
   "execution_count": 33,
   "id": "2d0892f5",
   "metadata": {},
   "outputs": [],
   "source": [
    "# Plot the actual and predicted close prices for the last 24 hours\n",
    "last_24_hours = data.iloc[-24:]\n",
    "actual_close_prices = last_24_hours['close_price']\n",
    "predicted_close_prices = pd.Series(best_model.predict(feats[-24:]), index=last_24_hours.index)"
   ]
  },
  {
   "cell_type": "code",
   "execution_count": 34,
   "id": "f98248bf",
   "metadata": {},
   "outputs": [
    {
     "data": {
      "image/png": "[encoded data removed]",
      "text/plain": [
       "<Figure size 864x576 with 1 Axes>"
      ]
     },
     "metadata": {
      "needs_background": "light"
     },
     "output_type": "display_data"
    }
   ],
   "source": [
    "df_actual_prices = pd.DataFrame(actual_close_prices)\n",
    "df_predicted_prices = pd.DataFrame(predicted_close_prices)\n",
    "df_predicted_prices.rename(columns={0:\"predicted_close_prices\"}, inplace=True)\n",
    "plt.figure(figsize=(12,8))\n",
    "\n",
    "plt.plot(df_predicted_prices , label='Predicted Prices')\n",
    "plt.plot(df_actual_prices , label='Actual Prices')\n",
    "\n",
    "plt.xlabel('Time')\n",
    "plt.ylabel('Close Price')\n",
    "plt.legend()\n",
    "\n",
    "\n",
    "plt.show()"
   ]
  }
 ],
 "metadata": {
  "kernelspec": {
   "display_name": "env",
   "language": "python",
   "name": "env"
  },
  "language_info": {
   "codemirror_mode": {
    "name": "ipython",
    "version": 3
   },
   "file_extension": ".py",
   "mimetype": "text/x-python",
   "name": "python",
   "nbconvert_exporter": "python",
   "pygments_lexer": "ipython3",
   "version": "3.9.12"
  }
 },
 "nbformat": 4,
 "nbformat_minor": 5
}
