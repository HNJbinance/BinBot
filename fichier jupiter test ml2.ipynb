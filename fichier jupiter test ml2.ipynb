{
 "cells": [
  {
   "attachments": {},
   "cell_type": "markdown",
   "metadata": {},
   "source": [
    "connection a la base de données "
   ]
  },
  {
   "cell_type": "code",
   "execution_count": 1,
   "metadata": {},
   "outputs": [],
   "source": [
    "import mysql.connector\n",
    "import pandas as pd\n",
    "# Connexion à la base de données MySQL\n",
    "mydb = mysql.connector.connect(\n",
    "  host=\"127.0.0.1\",\n",
    "  user=\"datascientest\",\n",
    "  password=\"temp123\",\n",
    "  database=\"opa\"\n",
    ")\n",
    "\n",
    "# Créer un curseur pour exécuter les requêtes SQL\n",
    "mycursor = mydb.cursor()\n",
    "\n",
    "# Exécuter une requête SQL pour récupérer les données\n",
    "mycursor.execute(\"SELECT * FROM opa.historical_klines;\")\n",
    "\n",
    "# Récupérer les résultats\n",
    "resultats = mycursor.fetchall()\n",
    "\n",
    "# Fermer la connexion à la base de données\n",
    "mydb.close()\n",
    "# Transformer les résultats en DataFrame pandas\n",
    "df = pd.DataFrame(resultats, columns=[\"id_symint\", \"open_time\", \"open_price\", \"high_price\", \"low_price\", \n",
    "                                      \"close_price\", \"volume\", \"close_time\", \"quote_asset_volume\", \n",
    "                                      \"number_of_trades\", \"taker_buy_base_asset_volume\", \"taker_buy_quote_asset_volume\"])\n",
    "\n",
    "# Exporter le DataFrame dans un fichier CSV\n",
    "df.to_csv(\"donnes binance historiques.csv\", index=False)\n",
    "\n"
   ]
  },
  {
   "attachments": {},
   "cell_type": "markdown",
   "metadata": {},
   "source": [
    "lecture du fichier dans un dataframe df"
   ]
  },
  {
   "cell_type": "code",
   "execution_count": 2,
   "metadata": {},
   "outputs": [
    {
     "data": {
      "text/html": [
       "<div>\n",
       "<style scoped>\n",
       "    .dataframe tbody tr th:only-of-type {\n",
       "        vertical-align: middle;\n",
       "    }\n",
       "\n",
       "    .dataframe tbody tr th {\n",
       "        vertical-align: top;\n",
       "    }\n",
       "\n",
       "    .dataframe thead th {\n",
       "        text-align: right;\n",
       "    }\n",
       "</style>\n",
       "<table border=\"1\" class=\"dataframe\">\n",
       "  <thead>\n",
       "    <tr style=\"text-align: right;\">\n",
       "      <th></th>\n",
       "      <th>id_symint</th>\n",
       "      <th>open_time</th>\n",
       "      <th>open_price</th>\n",
       "      <th>high_price</th>\n",
       "      <th>low_price</th>\n",
       "      <th>close_price</th>\n",
       "      <th>volume</th>\n",
       "      <th>close_time</th>\n",
       "      <th>quote_asset_volume</th>\n",
       "      <th>number_of_trades</th>\n",
       "      <th>taker_buy_base_asset_volume</th>\n",
       "      <th>taker_buy_quote_asset_volume</th>\n",
       "    </tr>\n",
       "  </thead>\n",
       "  <tbody>\n",
       "    <tr>\n",
       "      <th>0</th>\n",
       "      <td>1</td>\n",
       "      <td>1502942400000</td>\n",
       "      <td>4261.48</td>\n",
       "      <td>4313.62</td>\n",
       "      <td>4261.32</td>\n",
       "      <td>4308.83</td>\n",
       "      <td>47.181000</td>\n",
       "      <td>1502945999999</td>\n",
       "      <td>202366.0</td>\n",
       "      <td>171.0</td>\n",
       "      <td>35.160500</td>\n",
       "      <td>150952.00</td>\n",
       "    </tr>\n",
       "    <tr>\n",
       "      <th>1</th>\n",
       "      <td>1</td>\n",
       "      <td>1502946000000</td>\n",
       "      <td>4308.83</td>\n",
       "      <td>4328.69</td>\n",
       "      <td>4291.37</td>\n",
       "      <td>4315.32</td>\n",
       "      <td>23.234900</td>\n",
       "      <td>1502949599999</td>\n",
       "      <td>100305.0</td>\n",
       "      <td>102.0</td>\n",
       "      <td>21.448100</td>\n",
       "      <td>92608.30</td>\n",
       "    </tr>\n",
       "    <tr>\n",
       "      <th>2</th>\n",
       "      <td>1</td>\n",
       "      <td>1502949600000</td>\n",
       "      <td>4330.29</td>\n",
       "      <td>4345.45</td>\n",
       "      <td>4309.37</td>\n",
       "      <td>4324.35</td>\n",
       "      <td>7.229690</td>\n",
       "      <td>1502953199999</td>\n",
       "      <td>31282.3</td>\n",
       "      <td>36.0</td>\n",
       "      <td>4.802860</td>\n",
       "      <td>20795.30</td>\n",
       "    </tr>\n",
       "    <tr>\n",
       "      <th>3</th>\n",
       "      <td>1</td>\n",
       "      <td>1502953200000</td>\n",
       "      <td>4316.62</td>\n",
       "      <td>4349.99</td>\n",
       "      <td>4287.41</td>\n",
       "      <td>4349.99</td>\n",
       "      <td>4.443250</td>\n",
       "      <td>1502956799999</td>\n",
       "      <td>19241.1</td>\n",
       "      <td>25.0</td>\n",
       "      <td>2.602290</td>\n",
       "      <td>11291.30</td>\n",
       "    </tr>\n",
       "    <tr>\n",
       "      <th>4</th>\n",
       "      <td>1</td>\n",
       "      <td>1502956800000</td>\n",
       "      <td>4333.32</td>\n",
       "      <td>4377.85</td>\n",
       "      <td>4333.32</td>\n",
       "      <td>4360.69</td>\n",
       "      <td>0.972807</td>\n",
       "      <td>1502960399999</td>\n",
       "      <td>4239.5</td>\n",
       "      <td>28.0</td>\n",
       "      <td>0.814655</td>\n",
       "      <td>3552.75</td>\n",
       "    </tr>\n",
       "  </tbody>\n",
       "</table>\n",
       "</div>"
      ],
      "text/plain": [
       "   id_symint      open_time  open_price  high_price  low_price  close_price  \\\n",
       "0          1  1502942400000     4261.48     4313.62    4261.32      4308.83   \n",
       "1          1  1502946000000     4308.83     4328.69    4291.37      4315.32   \n",
       "2          1  1502949600000     4330.29     4345.45    4309.37      4324.35   \n",
       "3          1  1502953200000     4316.62     4349.99    4287.41      4349.99   \n",
       "4          1  1502956800000     4333.32     4377.85    4333.32      4360.69   \n",
       "\n",
       "      volume     close_time  quote_asset_volume  number_of_trades  \\\n",
       "0  47.181000  1502945999999            202366.0             171.0   \n",
       "1  23.234900  1502949599999            100305.0             102.0   \n",
       "2   7.229690  1502953199999             31282.3              36.0   \n",
       "3   4.443250  1502956799999             19241.1              25.0   \n",
       "4   0.972807  1502960399999              4239.5              28.0   \n",
       "\n",
       "   taker_buy_base_asset_volume  taker_buy_quote_asset_volume  \n",
       "0                    35.160500                     150952.00  \n",
       "1                    21.448100                      92608.30  \n",
       "2                     4.802860                      20795.30  \n",
       "3                     2.602290                      11291.30  \n",
       "4                     0.814655                       3552.75  "
      ]
     },
     "execution_count": 2,
     "metadata": {},
     "output_type": "execute_result"
    }
   ],
   "source": [
    "df=pd.read_csv('donnes binance historiques.csv')\n",
    "df.head()"
   ]
  },
  {
   "attachments": {},
   "cell_type": "markdown",
   "metadata": {},
   "source": [
    "importation des bibliotheques"
   ]
  },
  {
   "cell_type": "code",
   "execution_count": 3,
   "metadata": {},
   "outputs": [],
   "source": [
    "import pandas as pd\n",
    "import requests\n",
    "from sklearn.ensemble import RandomForestClassifier\n",
    "from sklearn.metrics import accuracy_score, recall_score, roc_auc_score\n",
    "from sklearn.model_selection import train_test_split"
   ]
  },
  {
   "attachments": {},
   "cell_type": "markdown",
   "metadata": {},
   "source": [
    "conversion a les colonnes 'open_time' et 'close_time' au format datetime garce a la methode to_datetime de Pandas"
   ]
  },
  {
   "cell_type": "code",
   "execution_count": 4,
   "metadata": {},
   "outputs": [
    {
     "data": {
      "text/html": [
       "<div>\n",
       "<style scoped>\n",
       "    .dataframe tbody tr th:only-of-type {\n",
       "        vertical-align: middle;\n",
       "    }\n",
       "\n",
       "    .dataframe tbody tr th {\n",
       "        vertical-align: top;\n",
       "    }\n",
       "\n",
       "    .dataframe thead th {\n",
       "        text-align: right;\n",
       "    }\n",
       "</style>\n",
       "<table border=\"1\" class=\"dataframe\">\n",
       "  <thead>\n",
       "    <tr style=\"text-align: right;\">\n",
       "      <th></th>\n",
       "      <th>id_symint</th>\n",
       "      <th>open_time</th>\n",
       "      <th>open_price</th>\n",
       "      <th>high_price</th>\n",
       "      <th>low_price</th>\n",
       "      <th>close_price</th>\n",
       "      <th>volume</th>\n",
       "      <th>close_time</th>\n",
       "      <th>quote_asset_volume</th>\n",
       "      <th>number_of_trades</th>\n",
       "      <th>taker_buy_base_asset_volume</th>\n",
       "      <th>taker_buy_quote_asset_volume</th>\n",
       "    </tr>\n",
       "  </thead>\n",
       "  <tbody>\n",
       "    <tr>\n",
       "      <th>0</th>\n",
       "      <td>1</td>\n",
       "      <td>2017-08-17 04:00:00</td>\n",
       "      <td>4261.48</td>\n",
       "      <td>4313.62</td>\n",
       "      <td>4261.32</td>\n",
       "      <td>4308.83</td>\n",
       "      <td>47.181000</td>\n",
       "      <td>2017-08-17 04:59:59.999</td>\n",
       "      <td>202366.0</td>\n",
       "      <td>171.0</td>\n",
       "      <td>35.160500</td>\n",
       "      <td>150952.00</td>\n",
       "    </tr>\n",
       "    <tr>\n",
       "      <th>1</th>\n",
       "      <td>1</td>\n",
       "      <td>2017-08-17 05:00:00</td>\n",
       "      <td>4308.83</td>\n",
       "      <td>4328.69</td>\n",
       "      <td>4291.37</td>\n",
       "      <td>4315.32</td>\n",
       "      <td>23.234900</td>\n",
       "      <td>2017-08-17 05:59:59.999</td>\n",
       "      <td>100305.0</td>\n",
       "      <td>102.0</td>\n",
       "      <td>21.448100</td>\n",
       "      <td>92608.30</td>\n",
       "    </tr>\n",
       "    <tr>\n",
       "      <th>2</th>\n",
       "      <td>1</td>\n",
       "      <td>2017-08-17 06:00:00</td>\n",
       "      <td>4330.29</td>\n",
       "      <td>4345.45</td>\n",
       "      <td>4309.37</td>\n",
       "      <td>4324.35</td>\n",
       "      <td>7.229690</td>\n",
       "      <td>2017-08-17 06:59:59.999</td>\n",
       "      <td>31282.3</td>\n",
       "      <td>36.0</td>\n",
       "      <td>4.802860</td>\n",
       "      <td>20795.30</td>\n",
       "    </tr>\n",
       "    <tr>\n",
       "      <th>3</th>\n",
       "      <td>1</td>\n",
       "      <td>2017-08-17 07:00:00</td>\n",
       "      <td>4316.62</td>\n",
       "      <td>4349.99</td>\n",
       "      <td>4287.41</td>\n",
       "      <td>4349.99</td>\n",
       "      <td>4.443250</td>\n",
       "      <td>2017-08-17 07:59:59.999</td>\n",
       "      <td>19241.1</td>\n",
       "      <td>25.0</td>\n",
       "      <td>2.602290</td>\n",
       "      <td>11291.30</td>\n",
       "    </tr>\n",
       "    <tr>\n",
       "      <th>4</th>\n",
       "      <td>1</td>\n",
       "      <td>2017-08-17 08:00:00</td>\n",
       "      <td>4333.32</td>\n",
       "      <td>4377.85</td>\n",
       "      <td>4333.32</td>\n",
       "      <td>4360.69</td>\n",
       "      <td>0.972807</td>\n",
       "      <td>2017-08-17 08:59:59.999</td>\n",
       "      <td>4239.5</td>\n",
       "      <td>28.0</td>\n",
       "      <td>0.814655</td>\n",
       "      <td>3552.75</td>\n",
       "    </tr>\n",
       "  </tbody>\n",
       "</table>\n",
       "</div>"
      ],
      "text/plain": [
       "   id_symint           open_time  open_price  high_price  low_price  \\\n",
       "0          1 2017-08-17 04:00:00     4261.48     4313.62    4261.32   \n",
       "1          1 2017-08-17 05:00:00     4308.83     4328.69    4291.37   \n",
       "2          1 2017-08-17 06:00:00     4330.29     4345.45    4309.37   \n",
       "3          1 2017-08-17 07:00:00     4316.62     4349.99    4287.41   \n",
       "4          1 2017-08-17 08:00:00     4333.32     4377.85    4333.32   \n",
       "\n",
       "   close_price     volume              close_time  quote_asset_volume  \\\n",
       "0      4308.83  47.181000 2017-08-17 04:59:59.999            202366.0   \n",
       "1      4315.32  23.234900 2017-08-17 05:59:59.999            100305.0   \n",
       "2      4324.35   7.229690 2017-08-17 06:59:59.999             31282.3   \n",
       "3      4349.99   4.443250 2017-08-17 07:59:59.999             19241.1   \n",
       "4      4360.69   0.972807 2017-08-17 08:59:59.999              4239.5   \n",
       "\n",
       "   number_of_trades  taker_buy_base_asset_volume  taker_buy_quote_asset_volume  \n",
       "0             171.0                    35.160500                     150952.00  \n",
       "1             102.0                    21.448100                      92608.30  \n",
       "2              36.0                     4.802860                      20795.30  \n",
       "3              25.0                     2.602290                      11291.30  \n",
       "4              28.0                     0.814655                       3552.75  "
      ]
     },
     "execution_count": 4,
     "metadata": {},
     "output_type": "execute_result"
    }
   ],
   "source": [
    "# Conversion des timestamps en date\n",
    "df['open_time'] = pd.to_datetime(df['open_time'], unit='ms')\n",
    "df['close_time'] = pd.to_datetime(df['close_time'], unit='ms')\n",
    "df.head()"
   ]
  },
  {
   "cell_type": "markdown",
   "metadata": {},
   "source": []
  },
  {
   "cell_type": "code",
   "execution_count": 5,
   "metadata": {},
   "outputs": [
    {
     "name": "stdout",
     "output_type": "stream",
     "text": [
      "Index(['id_symint', 'open_time', 'prix-ouverture', 'prix_fermeture', 'volume',\n",
      "       'close_time', 'Nb_trades'],\n",
      "      dtype='object')\n"
     ]
    }
   ],
   "source": [
    "# Renommer les colonnes pour une meilleure compréhension\n",
    "df.rename(columns={'open_price': 'prix-ouverture', 'close_price': 'prix_fermeture','number_of_trades':'Nb_trades'},\n",
    "          inplace=True)\n",
    "\n",
    "# Supprimer les colonnes inutiles\n",
    "df.drop(columns=['high_price', 'low_price', 'quote_asset_volume',\n",
    "                 'taker_buy_base_asset_volume', 'taker_buy_quote_asset_volume'], \n",
    "        inplace=True)\n",
    "print(df.columns)"
   ]
  },
  {
   "cell_type": "markdown",
   "metadata": {},
   "source": []
  },
  {
   "cell_type": "code",
   "execution_count": 7,
   "metadata": {},
   "outputs": [],
   "source": [
    "# Création de la variable cible\n",
    "df['target'] = (df['prix_fermeture'].shift(-1) > df['prix_fermeture']).astype(int)\n",
    "\n",
    "# Suppression de la dernière ligne pour éviter les valeurs nulles\n",
    "df.drop(df.tail(1).index, inplace=True)\n",
    "\n",
    "# Définition des features et de la variable cible\n",
    "X = df[['prix-ouverture', 'prix_fermeture', 'volume']]\n",
    "y = df['target']\n",
    "\n",
    "# Séparation des données en ensemble d'entraînement et ensemble de test\n",
    "X_train, X_test, y_train, y_test = train_test_split(X, y, test_size=0.3, random_state=42)"
   ]
  },
  {
   "cell_type": "markdown",
   "metadata": {},
   "source": []
  },
  {
   "cell_type": "code",
   "execution_count": 8,
   "metadata": {},
   "outputs": [],
   "source": [
    "# Entraînement du modèle RandomForestClassifier\n",
    "rfc = RandomForestClassifier(n_estimators=100, max_depth=5, random_state=42)\n",
    "rfc.fit(X_train, y_train)\n",
    "\n",
    "# Prédictions sur l'ensemble de test\n",
    "y_pred = rfc.predict(X_test)"
   ]
  },
  {
   "cell_type": "code",
   "execution_count": 9,
   "metadata": {},
   "outputs": [
    {
     "name": "stdout",
     "output_type": "stream",
     "text": [
      "Accuracy: 0.52\n",
      "Recall: 0.96\n",
      "ROC AUC: 0.50\n"
     ]
    }
   ],
   "source": [
    "accuracy = accuracy_score(y_test, y_pred)\n",
    "recall = recall_score(y_test, y_pred)\n",
    "roc_auc = roc_auc_score(y_test, y_pred)\n",
    "print('Accuracy: {:.2f}'.format(accuracy))\n",
    "print('Recall: {:.2f}'.format(recall))\n",
    "print('ROC AUC: {:.2f}'.format(roc_auc))"
   ]
  },
  {
   "cell_type": "code",
   "execution_count": 11,
   "metadata": {},
   "outputs": [
    {
     "name": "stdout",
     "output_type": "stream",
     "text": [
      "Il est recommandé d'acheter.\n"
     ]
    },
    {
     "name": "stderr",
     "output_type": "stream",
     "text": [
      "C:\\Users\\Souhi\\AppData\\Local\\Packages\\PythonSoftwareFoundation.Python.3.10_qbz5n2kfra8p0\\LocalCache\\local-packages\\Python310\\site-packages\\sklearn\\base.py:420: UserWarning: X does not have valid feature names, but RandomForestClassifier was fitted with feature names\n",
      "  warnings.warn(\n"
     ]
    }
   ],
   "source": [
    "# Prédiction d'achat ou de vente\n",
    "current_data = [[df['prix-ouverture'].iloc[-1], df['prix_fermeture'].iloc[-1], df['volume'].iloc[-1]]]\n",
    "prediction = rfc.predict(current_data)[0]\n",
    "\n",
    "if prediction == 1:\n",
    "    print('Il est recommandé d\\'acheter.')\n",
    "else:\n",
    "    print('Il n\\'est pas recommandé d\\'acheter.')\n",
    "\n",
    "# Stratégie de vente\n",
    "profit_threshold = 1.05 # Seuil de profit à 5%\n",
    "loss_threshold = 0.95 # Seuil de perte à 5%"
   ]
  }
 ],
 "metadata": {
  "kernelspec": {
   "display_name": "Python 3",
   "language": "python",
   "name": "python3"
  },
  "language_info": {
   "codemirror_mode": {
    "name": "ipython",
    "version": 3
   },
   "file_extension": ".py",
   "mimetype": "text/x-python",
   "name": "python",
   "nbconvert_exporter": "python",
   "pygments_lexer": "ipython3",
   "version": "3.10.10"
  },
  "orig_nbformat": 4
 },
 "nbformat": 4,
 "nbformat_minor": 2
}
