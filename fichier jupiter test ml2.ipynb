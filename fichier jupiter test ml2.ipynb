{
 "cells": [
  {
   "attachments": {},
   "cell_type": "markdown",
   "metadata": {},
   "source": [
    "connection a la base de données "
   ]
  },
  {
   "cell_type": "code",
   "execution_count": null,
   "metadata": {},
   "outputs": [],
   "source": [
    "import mysql.connector\n",
    "\n",
    "# Connexion à la base de données MySQL\n",
    "mydb = mysql.connector.connect(\n",
    "  host=\"127.0.0.1\",\n",
    "  user=\"datascientest\",\n",
    "  password=\"temp123\",\n",
    "  database=\"opa\"\n",
    ")\n",
    "\n",
    "# Créer un curseur pour exécuter les requêtes SQL\n",
    "mycursor = mydb.cursor()\n",
    "\n",
    "# Exécuter une requête SQL pour récupérer les données\n",
    "mycursor.execute(\"SELECT * FROM opa.historical_klines;\")\n",
    "\n",
    "# Récupérer les résultats\n",
    "resultats = mycursor.fetchall()\n",
    "\n",
    "# Fermer la connexion à la base de données\n",
    "mydb.close()\n",
    "# Transformer les résultats en DataFrame pandas\n",
    "df = pd.DataFrame(resultats, columns=[\"id_symint\", \"open_time\", \"open_price\", \"high_price\", \"low_price\", \n",
    "                                      \"close_price\", \"volume\", \"close_time\", \"quote_asset_volume\", \n",
    "                                      \"number_of_trades\", \"taker_buy_base_asset_volume\", \"taker_buy_quote_asset_volume\"])\n",
    "\n",
    "# Exporter le DataFrame dans un fichier CSV\n",
    "df.to_csv(\"donnes binance historiques.csv\", index=False)\n",
    "\n"
   ]
  },
  {
   "attachments": {},
   "cell_type": "markdown",
   "metadata": {},
   "source": []
  }
 ],
 "metadata": {
  "kernelspec": {
   "display_name": "Python 3",
   "language": "python",
   "name": "python3"
  },
  "language_info": {
   "name": "python",
   "version": "3.10.10"
  },
  "orig_nbformat": 4
 },
 "nbformat": 4,
 "nbformat_minor": 2
}
